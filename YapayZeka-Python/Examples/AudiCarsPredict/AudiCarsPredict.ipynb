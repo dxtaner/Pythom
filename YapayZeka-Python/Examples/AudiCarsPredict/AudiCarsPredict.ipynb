{
 "cells": [
  {
   "cell_type": "code",
   "execution_count": 1,
   "metadata": {},
   "outputs": [
    {
     "name": "stderr",
     "output_type": "stream",
     "text": [
      "c:\\Users\\Taner\\anaconda3\\lib\\site-packages\\scipy\\__init__.py:146: UserWarning: A NumPy version >=1.16.5 and <1.23.0 is required for this version of SciPy (detected version 1.26.4\n",
      "  warnings.warn(f\"A NumPy version >={np_minversion} and <{np_maxversion}\"\n"
     ]
    }
   ],
   "source": [
    "import pandas as pd\n",
    "import numpy as np\n",
    "import matplotlib.pyplot as plt\n",
    "import seaborn as sbn"
   ]
  },
  {
   "cell_type": "code",
   "execution_count": 2,
   "metadata": {},
   "outputs": [],
   "source": [
    "dataFrame = pd.read_csv(\"audi.csv\")\n"
   ]
  },
  {
   "cell_type": "code",
   "execution_count": 4,
   "metadata": {},
   "outputs": [
    {
     "data": {
      "text/html": [
       "<div>\n",
       "<style scoped>\n",
       "    .dataframe tbody tr th:only-of-type {\n",
       "        vertical-align: middle;\n",
       "    }\n",
       "\n",
       "    .dataframe tbody tr th {\n",
       "        vertical-align: top;\n",
       "    }\n",
       "\n",
       "    .dataframe thead th {\n",
       "        text-align: right;\n",
       "    }\n",
       "</style>\n",
       "<table border=\"1\" class=\"dataframe\">\n",
       "  <thead>\n",
       "    <tr style=\"text-align: right;\">\n",
       "      <th></th>\n",
       "      <th>model</th>\n",
       "      <th>year</th>\n",
       "      <th>price</th>\n",
       "      <th>transmission</th>\n",
       "      <th>mileage</th>\n",
       "      <th>fuelType</th>\n",
       "      <th>tax</th>\n",
       "      <th>mpg</th>\n",
       "      <th>engineSize</th>\n",
       "    </tr>\n",
       "  </thead>\n",
       "  <tbody>\n",
       "    <tr>\n",
       "      <th>0</th>\n",
       "      <td>A1</td>\n",
       "      <td>2017</td>\n",
       "      <td>12500</td>\n",
       "      <td>Manual</td>\n",
       "      <td>15735</td>\n",
       "      <td>Petrol</td>\n",
       "      <td>150</td>\n",
       "      <td>55.4</td>\n",
       "      <td>1.4</td>\n",
       "    </tr>\n",
       "    <tr>\n",
       "      <th>1</th>\n",
       "      <td>A6</td>\n",
       "      <td>2016</td>\n",
       "      <td>16500</td>\n",
       "      <td>Automatic</td>\n",
       "      <td>36203</td>\n",
       "      <td>Diesel</td>\n",
       "      <td>20</td>\n",
       "      <td>64.2</td>\n",
       "      <td>2.0</td>\n",
       "    </tr>\n",
       "    <tr>\n",
       "      <th>2</th>\n",
       "      <td>A1</td>\n",
       "      <td>2016</td>\n",
       "      <td>11000</td>\n",
       "      <td>Manual</td>\n",
       "      <td>29946</td>\n",
       "      <td>Petrol</td>\n",
       "      <td>30</td>\n",
       "      <td>55.4</td>\n",
       "      <td>1.4</td>\n",
       "    </tr>\n",
       "    <tr>\n",
       "      <th>3</th>\n",
       "      <td>A4</td>\n",
       "      <td>2017</td>\n",
       "      <td>16800</td>\n",
       "      <td>Automatic</td>\n",
       "      <td>25952</td>\n",
       "      <td>Diesel</td>\n",
       "      <td>145</td>\n",
       "      <td>67.3</td>\n",
       "      <td>2.0</td>\n",
       "    </tr>\n",
       "    <tr>\n",
       "      <th>4</th>\n",
       "      <td>A3</td>\n",
       "      <td>2019</td>\n",
       "      <td>17300</td>\n",
       "      <td>Manual</td>\n",
       "      <td>1998</td>\n",
       "      <td>Petrol</td>\n",
       "      <td>145</td>\n",
       "      <td>49.6</td>\n",
       "      <td>1.0</td>\n",
       "    </tr>\n",
       "  </tbody>\n",
       "</table>\n",
       "</div>"
      ],
      "text/plain": [
       "  model  year  price transmission  mileage fuelType  tax   mpg  engineSize\n",
       "0    A1  2017  12500       Manual    15735   Petrol  150  55.4         1.4\n",
       "1    A6  2016  16500    Automatic    36203   Diesel   20  64.2         2.0\n",
       "2    A1  2016  11000       Manual    29946   Petrol   30  55.4         1.4\n",
       "3    A4  2017  16800    Automatic    25952   Diesel  145  67.3         2.0\n",
       "4    A3  2019  17300       Manual     1998   Petrol  145  49.6         1.0"
      ]
     },
     "execution_count": 4,
     "metadata": {},
     "output_type": "execute_result"
    }
   ],
   "source": [
    "dataFrame.head()"
   ]
  },
  {
   "cell_type": "code",
   "execution_count": 5,
   "metadata": {},
   "outputs": [
    {
     "data": {
      "text/html": [
       "<div>\n",
       "<style scoped>\n",
       "    .dataframe tbody tr th:only-of-type {\n",
       "        vertical-align: middle;\n",
       "    }\n",
       "\n",
       "    .dataframe tbody tr th {\n",
       "        vertical-align: top;\n",
       "    }\n",
       "\n",
       "    .dataframe thead th {\n",
       "        text-align: right;\n",
       "    }\n",
       "</style>\n",
       "<table border=\"1\" class=\"dataframe\">\n",
       "  <thead>\n",
       "    <tr style=\"text-align: right;\">\n",
       "      <th></th>\n",
       "      <th>year</th>\n",
       "      <th>price</th>\n",
       "      <th>mileage</th>\n",
       "      <th>tax</th>\n",
       "      <th>mpg</th>\n",
       "      <th>engineSize</th>\n",
       "    </tr>\n",
       "  </thead>\n",
       "  <tbody>\n",
       "    <tr>\n",
       "      <th>count</th>\n",
       "      <td>10668.000000</td>\n",
       "      <td>10668.000000</td>\n",
       "      <td>10668.000000</td>\n",
       "      <td>10668.000000</td>\n",
       "      <td>10668.000000</td>\n",
       "      <td>10668.000000</td>\n",
       "    </tr>\n",
       "    <tr>\n",
       "      <th>mean</th>\n",
       "      <td>2017.100675</td>\n",
       "      <td>22896.685039</td>\n",
       "      <td>24827.244001</td>\n",
       "      <td>126.011436</td>\n",
       "      <td>50.770022</td>\n",
       "      <td>1.930709</td>\n",
       "    </tr>\n",
       "    <tr>\n",
       "      <th>std</th>\n",
       "      <td>2.167494</td>\n",
       "      <td>11714.841888</td>\n",
       "      <td>23505.257205</td>\n",
       "      <td>67.170294</td>\n",
       "      <td>12.949782</td>\n",
       "      <td>0.602957</td>\n",
       "    </tr>\n",
       "    <tr>\n",
       "      <th>min</th>\n",
       "      <td>1997.000000</td>\n",
       "      <td>1490.000000</td>\n",
       "      <td>1.000000</td>\n",
       "      <td>0.000000</td>\n",
       "      <td>18.900000</td>\n",
       "      <td>0.000000</td>\n",
       "    </tr>\n",
       "    <tr>\n",
       "      <th>25%</th>\n",
       "      <td>2016.000000</td>\n",
       "      <td>15130.750000</td>\n",
       "      <td>5968.750000</td>\n",
       "      <td>125.000000</td>\n",
       "      <td>40.900000</td>\n",
       "      <td>1.500000</td>\n",
       "    </tr>\n",
       "    <tr>\n",
       "      <th>50%</th>\n",
       "      <td>2017.000000</td>\n",
       "      <td>20200.000000</td>\n",
       "      <td>19000.000000</td>\n",
       "      <td>145.000000</td>\n",
       "      <td>49.600000</td>\n",
       "      <td>2.000000</td>\n",
       "    </tr>\n",
       "    <tr>\n",
       "      <th>75%</th>\n",
       "      <td>2019.000000</td>\n",
       "      <td>27990.000000</td>\n",
       "      <td>36464.500000</td>\n",
       "      <td>145.000000</td>\n",
       "      <td>58.900000</td>\n",
       "      <td>2.000000</td>\n",
       "    </tr>\n",
       "    <tr>\n",
       "      <th>max</th>\n",
       "      <td>2020.000000</td>\n",
       "      <td>145000.000000</td>\n",
       "      <td>323000.000000</td>\n",
       "      <td>580.000000</td>\n",
       "      <td>188.300000</td>\n",
       "      <td>6.300000</td>\n",
       "    </tr>\n",
       "  </tbody>\n",
       "</table>\n",
       "</div>"
      ],
      "text/plain": [
       "               year          price        mileage           tax           mpg  \\\n",
       "count  10668.000000   10668.000000   10668.000000  10668.000000  10668.000000   \n",
       "mean    2017.100675   22896.685039   24827.244001    126.011436     50.770022   \n",
       "std        2.167494   11714.841888   23505.257205     67.170294     12.949782   \n",
       "min     1997.000000    1490.000000       1.000000      0.000000     18.900000   \n",
       "25%     2016.000000   15130.750000    5968.750000    125.000000     40.900000   \n",
       "50%     2017.000000   20200.000000   19000.000000    145.000000     49.600000   \n",
       "75%     2019.000000   27990.000000   36464.500000    145.000000     58.900000   \n",
       "max     2020.000000  145000.000000  323000.000000    580.000000    188.300000   \n",
       "\n",
       "         engineSize  \n",
       "count  10668.000000  \n",
       "mean       1.930709  \n",
       "std        0.602957  \n",
       "min        0.000000  \n",
       "25%        1.500000  \n",
       "50%        2.000000  \n",
       "75%        2.000000  \n",
       "max        6.300000  "
      ]
     },
     "execution_count": 5,
     "metadata": {},
     "output_type": "execute_result"
    }
   ],
   "source": [
    "dataFrame.describe()"
   ]
  },
  {
   "cell_type": "code",
   "execution_count": 6,
   "metadata": {},
   "outputs": [
    {
     "data": {
      "text/plain": [
       "model           0\n",
       "year            0\n",
       "price           0\n",
       "transmission    0\n",
       "mileage         0\n",
       "fuelType        0\n",
       "tax             0\n",
       "mpg             0\n",
       "engineSize      0\n",
       "dtype: int64"
      ]
     },
     "execution_count": 6,
     "metadata": {},
     "output_type": "execute_result"
    }
   ],
   "source": [
    "dataFrame.isnull().sum()"
   ]
  },
  {
   "cell_type": "code",
   "execution_count": 7,
   "metadata": {},
   "outputs": [
    {
     "name": "stderr",
     "output_type": "stream",
     "text": [
      "c:\\Users\\Taner\\anaconda3\\lib\\site-packages\\seaborn\\distributions.py:2619: FutureWarning: `distplot` is a deprecated function and will be removed in a future version. Please adapt your code to use either `displot` (a figure-level function with similar flexibility) or `histplot` (an axes-level function for histograms).\n",
      "  warnings.warn(msg, FutureWarning)\n"
     ]
    },
    {
     "data": {
      "text/plain": [
       "<AxesSubplot:xlabel='price', ylabel='Density'>"
      ]
     },
     "execution_count": 7,
     "metadata": {},
     "output_type": "execute_result"
    },
    {
     "data": {
      "image/png": "[encoded data removed]",
      "text/plain": [
       "<Figure size 576x360 with 1 Axes>"
      ]
     },
     "metadata": {
      "needs_background": "light"
     },
     "output_type": "display_data"
    }
   ],
   "source": [
    "plt.figure(figsize=(8,5))\n",
    "sbn.distplot(dataFrame[\"price\"])"
   ]
  },
  {
   "cell_type": "code",
   "execution_count": 8,
   "metadata": {},
   "outputs": [
    {
     "name": "stderr",
     "output_type": "stream",
     "text": [
      "c:\\Users\\Taner\\anaconda3\\lib\\site-packages\\seaborn\\_decorators.py:36: FutureWarning: Pass the following variable as a keyword arg: x. From version 0.12, the only valid positional argument will be `data`, and passing other arguments without an explicit keyword will result in an error or misinterpretation.\n",
      "  warnings.warn(\n"
     ]
    },
    {
     "data": {
      "text/plain": [
       "<AxesSubplot:xlabel='year', ylabel='count'>"
      ]
     },
     "execution_count": 8,
     "metadata": {},
     "output_type": "execute_result"
    },
    {
     "data": {
      "image/png": "[encoded data removed]",
      "text/plain": [
       "<Figure size 432x288 with 1 Axes>"
      ]
     },
     "metadata": {
      "needs_background": "light"
     },
     "output_type": "display_data"
    }
   ],
   "source": [
    "sbn.countplot(dataFrame[\"year\"])"
   ]
  },
  {
   "cell_type": "code",
   "execution_count": 9,
   "metadata": {},
   "outputs": [
    {
     "data": {
      "text/html": [
       "<div>\n",
       "<style scoped>\n",
       "    .dataframe tbody tr th:only-of-type {\n",
       "        vertical-align: middle;\n",
       "    }\n",
       "\n",
       "    .dataframe tbody tr th {\n",
       "        vertical-align: top;\n",
       "    }\n",
       "\n",
       "    .dataframe thead th {\n",
       "        text-align: right;\n",
       "    }\n",
       "</style>\n",
       "<table border=\"1\" class=\"dataframe\">\n",
       "  <thead>\n",
       "    <tr style=\"text-align: right;\">\n",
       "      <th></th>\n",
       "      <th>year</th>\n",
       "      <th>price</th>\n",
       "      <th>mileage</th>\n",
       "      <th>tax</th>\n",
       "      <th>mpg</th>\n",
       "      <th>engineSize</th>\n",
       "    </tr>\n",
       "  </thead>\n",
       "  <tbody>\n",
       "    <tr>\n",
       "      <th>year</th>\n",
       "      <td>1.000000</td>\n",
       "      <td>0.592581</td>\n",
       "      <td>-0.789667</td>\n",
       "      <td>0.093066</td>\n",
       "      <td>-0.351281</td>\n",
       "      <td>-0.031582</td>\n",
       "    </tr>\n",
       "    <tr>\n",
       "      <th>price</th>\n",
       "      <td>0.592581</td>\n",
       "      <td>1.000000</td>\n",
       "      <td>-0.535357</td>\n",
       "      <td>0.356157</td>\n",
       "      <td>-0.600334</td>\n",
       "      <td>0.591262</td>\n",
       "    </tr>\n",
       "    <tr>\n",
       "      <th>mileage</th>\n",
       "      <td>-0.789667</td>\n",
       "      <td>-0.535357</td>\n",
       "      <td>1.000000</td>\n",
       "      <td>-0.166547</td>\n",
       "      <td>0.395103</td>\n",
       "      <td>0.070710</td>\n",
       "    </tr>\n",
       "    <tr>\n",
       "      <th>tax</th>\n",
       "      <td>0.093066</td>\n",
       "      <td>0.356157</td>\n",
       "      <td>-0.166547</td>\n",
       "      <td>1.000000</td>\n",
       "      <td>-0.635909</td>\n",
       "      <td>0.393075</td>\n",
       "    </tr>\n",
       "    <tr>\n",
       "      <th>mpg</th>\n",
       "      <td>-0.351281</td>\n",
       "      <td>-0.600334</td>\n",
       "      <td>0.395103</td>\n",
       "      <td>-0.635909</td>\n",
       "      <td>1.000000</td>\n",
       "      <td>-0.365621</td>\n",
       "    </tr>\n",
       "    <tr>\n",
       "      <th>engineSize</th>\n",
       "      <td>-0.031582</td>\n",
       "      <td>0.591262</td>\n",
       "      <td>0.070710</td>\n",
       "      <td>0.393075</td>\n",
       "      <td>-0.365621</td>\n",
       "      <td>1.000000</td>\n",
       "    </tr>\n",
       "  </tbody>\n",
       "</table>\n",
       "</div>"
      ],
      "text/plain": [
       "                year     price   mileage       tax       mpg  engineSize\n",
       "year        1.000000  0.592581 -0.789667  0.093066 -0.351281   -0.031582\n",
       "price       0.592581  1.000000 -0.535357  0.356157 -0.600334    0.591262\n",
       "mileage    -0.789667 -0.535357  1.000000 -0.166547  0.395103    0.070710\n",
       "tax         0.093066  0.356157 -0.166547  1.000000 -0.635909    0.393075\n",
       "mpg        -0.351281 -0.600334  0.395103 -0.635909  1.000000   -0.365621\n",
       "engineSize -0.031582  0.591262  0.070710  0.393075 -0.365621    1.000000"
      ]
     },
     "execution_count": 9,
     "metadata": {},
     "output_type": "execute_result"
    }
   ],
   "source": [
    "dataFrame.corr()"
   ]
  },
  {
   "cell_type": "code",
   "execution_count": 10,
   "metadata": {},
   "outputs": [
    {
     "data": {
      "text/plain": [
       "mpg          -0.600334\n",
       "mileage      -0.535357\n",
       "tax           0.356157\n",
       "engineSize    0.591262\n",
       "year          0.592581\n",
       "price         1.000000\n",
       "Name: price, dtype: float64"
      ]
     },
     "execution_count": 10,
     "metadata": {},
     "output_type": "execute_result"
    }
   ],
   "source": [
    "dataFrame.corr()[\"price\"].sort_values()"
   ]
  },
  {
   "cell_type": "code",
   "execution_count": 11,
   "metadata": {},
   "outputs": [
    {
     "data": {
      "text/plain": [
       "<AxesSubplot:xlabel='mileage', ylabel='price'>"
      ]
     },
     "execution_count": 11,
     "metadata": {},
     "output_type": "execute_result"
    },
    {
     "data": {
      "image/png": "[encoded data removed]",
      "text/plain": [
       "<Figure size 432x288 with 1 Axes>"
      ]
     },
     "metadata": {
      "needs_background": "light"
     },
     "output_type": "display_data"
    }
   ],
   "source": [
    "sbn.scatterplot(x=\"mileage\",y=\"price\",data=dataFrame)"
   ]
  },
  {
   "cell_type": "code",
   "execution_count": 12,
   "metadata": {},
   "outputs": [
    {
     "data": {
      "text/html": [
       "<div>\n",
       "<style scoped>\n",
       "    .dataframe tbody tr th:only-of-type {\n",
       "        vertical-align: middle;\n",
       "    }\n",
       "\n",
       "    .dataframe tbody tr th {\n",
       "        vertical-align: top;\n",
       "    }\n",
       "\n",
       "    .dataframe thead th {\n",
       "        text-align: right;\n",
       "    }\n",
       "</style>\n",
       "<table border=\"1\" class=\"dataframe\">\n",
       "  <thead>\n",
       "    <tr style=\"text-align: right;\">\n",
       "      <th></th>\n",
       "      <th>model</th>\n",
       "      <th>year</th>\n",
       "      <th>price</th>\n",
       "      <th>transmission</th>\n",
       "      <th>mileage</th>\n",
       "      <th>fuelType</th>\n",
       "      <th>tax</th>\n",
       "      <th>mpg</th>\n",
       "      <th>engineSize</th>\n",
       "    </tr>\n",
       "  </thead>\n",
       "  <tbody>\n",
       "    <tr>\n",
       "      <th>10588</th>\n",
       "      <td>A3</td>\n",
       "      <td>2003</td>\n",
       "      <td>1490</td>\n",
       "      <td>Automatic</td>\n",
       "      <td>101000</td>\n",
       "      <td>Diesel</td>\n",
       "      <td>240</td>\n",
       "      <td>44.5</td>\n",
       "      <td>1.9</td>\n",
       "    </tr>\n",
       "    <tr>\n",
       "      <th>10552</th>\n",
       "      <td>A4</td>\n",
       "      <td>2004</td>\n",
       "      <td>1699</td>\n",
       "      <td>Manual</td>\n",
       "      <td>110000</td>\n",
       "      <td>Diesel</td>\n",
       "      <td>315</td>\n",
       "      <td>36.2</td>\n",
       "      <td>2.5</td>\n",
       "    </tr>\n",
       "    <tr>\n",
       "      <th>7795</th>\n",
       "      <td>A3</td>\n",
       "      <td>2005</td>\n",
       "      <td>1975</td>\n",
       "      <td>Manual</td>\n",
       "      <td>104000</td>\n",
       "      <td>Petrol</td>\n",
       "      <td>240</td>\n",
       "      <td>38.1</td>\n",
       "      <td>2.0</td>\n",
       "    </tr>\n",
       "    <tr>\n",
       "      <th>10108</th>\n",
       "      <td>TT</td>\n",
       "      <td>2002</td>\n",
       "      <td>1990</td>\n",
       "      <td>Manual</td>\n",
       "      <td>131925</td>\n",
       "      <td>Petrol</td>\n",
       "      <td>325</td>\n",
       "      <td>30.1</td>\n",
       "      <td>1.8</td>\n",
       "    </tr>\n",
       "    <tr>\n",
       "      <th>7404</th>\n",
       "      <td>A3</td>\n",
       "      <td>2009</td>\n",
       "      <td>2490</td>\n",
       "      <td>Manual</td>\n",
       "      <td>152034</td>\n",
       "      <td>Diesel</td>\n",
       "      <td>150</td>\n",
       "      <td>55.4</td>\n",
       "      <td>1.9</td>\n",
       "    </tr>\n",
       "    <tr>\n",
       "      <th>9822</th>\n",
       "      <td>A6</td>\n",
       "      <td>2008</td>\n",
       "      <td>2490</td>\n",
       "      <td>Manual</td>\n",
       "      <td>323000</td>\n",
       "      <td>Diesel</td>\n",
       "      <td>200</td>\n",
       "      <td>44.1</td>\n",
       "      <td>2.0</td>\n",
       "    </tr>\n",
       "    <tr>\n",
       "      <th>10158</th>\n",
       "      <td>A2</td>\n",
       "      <td>2003</td>\n",
       "      <td>2490</td>\n",
       "      <td>Manual</td>\n",
       "      <td>100000</td>\n",
       "      <td>Diesel</td>\n",
       "      <td>30</td>\n",
       "      <td>65.7</td>\n",
       "      <td>1.4</td>\n",
       "    </tr>\n",
       "    <tr>\n",
       "      <th>9897</th>\n",
       "      <td>A3</td>\n",
       "      <td>2005</td>\n",
       "      <td>2495</td>\n",
       "      <td>Manual</td>\n",
       "      <td>122000</td>\n",
       "      <td>Diesel</td>\n",
       "      <td>150</td>\n",
       "      <td>53.3</td>\n",
       "      <td>0.0</td>\n",
       "    </tr>\n",
       "    <tr>\n",
       "      <th>9359</th>\n",
       "      <td>A6</td>\n",
       "      <td>2003</td>\n",
       "      <td>2495</td>\n",
       "      <td>Manual</td>\n",
       "      <td>129000</td>\n",
       "      <td>Diesel</td>\n",
       "      <td>325</td>\n",
       "      <td>31.7</td>\n",
       "      <td>2.5</td>\n",
       "    </tr>\n",
       "    <tr>\n",
       "      <th>7750</th>\n",
       "      <td>A6</td>\n",
       "      <td>2003</td>\n",
       "      <td>2495</td>\n",
       "      <td>Automatic</td>\n",
       "      <td>117000</td>\n",
       "      <td>Diesel</td>\n",
       "      <td>290</td>\n",
       "      <td>39.8</td>\n",
       "      <td>2.5</td>\n",
       "    </tr>\n",
       "    <tr>\n",
       "      <th>10259</th>\n",
       "      <td>A6</td>\n",
       "      <td>2007</td>\n",
       "      <td>2600</td>\n",
       "      <td>Manual</td>\n",
       "      <td>127700</td>\n",
       "      <td>Diesel</td>\n",
       "      <td>205</td>\n",
       "      <td>44.1</td>\n",
       "      <td>2.0</td>\n",
       "    </tr>\n",
       "    <tr>\n",
       "      <th>9543</th>\n",
       "      <td>A4</td>\n",
       "      <td>2007</td>\n",
       "      <td>2675</td>\n",
       "      <td>Manual</td>\n",
       "      <td>125000</td>\n",
       "      <td>Petrol</td>\n",
       "      <td>305</td>\n",
       "      <td>34.9</td>\n",
       "      <td>2.0</td>\n",
       "    </tr>\n",
       "    <tr>\n",
       "      <th>9634</th>\n",
       "      <td>A3</td>\n",
       "      <td>2007</td>\n",
       "      <td>2795</td>\n",
       "      <td>Manual</td>\n",
       "      <td>104000</td>\n",
       "      <td>Diesel</td>\n",
       "      <td>145</td>\n",
       "      <td>53.3</td>\n",
       "      <td>1.9</td>\n",
       "    </tr>\n",
       "    <tr>\n",
       "      <th>9523</th>\n",
       "      <td>TT</td>\n",
       "      <td>2002</td>\n",
       "      <td>2876</td>\n",
       "      <td>Manual</td>\n",
       "      <td>99000</td>\n",
       "      <td>Petrol</td>\n",
       "      <td>295</td>\n",
       "      <td>30.1</td>\n",
       "      <td>1.8</td>\n",
       "    </tr>\n",
       "    <tr>\n",
       "      <th>9895</th>\n",
       "      <td>TT</td>\n",
       "      <td>2004</td>\n",
       "      <td>2895</td>\n",
       "      <td>Manual</td>\n",
       "      <td>129000</td>\n",
       "      <td>Petrol</td>\n",
       "      <td>325</td>\n",
       "      <td>30.8</td>\n",
       "      <td>1.8</td>\n",
       "    </tr>\n",
       "    <tr>\n",
       "      <th>10500</th>\n",
       "      <td>A3</td>\n",
       "      <td>2005</td>\n",
       "      <td>2895</td>\n",
       "      <td>Manual</td>\n",
       "      <td>106790</td>\n",
       "      <td>Petrol</td>\n",
       "      <td>240</td>\n",
       "      <td>35.3</td>\n",
       "      <td>1.6</td>\n",
       "    </tr>\n",
       "    <tr>\n",
       "      <th>10179</th>\n",
       "      <td>A4</td>\n",
       "      <td>2005</td>\n",
       "      <td>2990</td>\n",
       "      <td>Manual</td>\n",
       "      <td>95000</td>\n",
       "      <td>Petrol</td>\n",
       "      <td>300</td>\n",
       "      <td>34.9</td>\n",
       "      <td>2.0</td>\n",
       "    </tr>\n",
       "    <tr>\n",
       "      <th>9882</th>\n",
       "      <td>A3</td>\n",
       "      <td>2007</td>\n",
       "      <td>2995</td>\n",
       "      <td>Manual</td>\n",
       "      <td>128000</td>\n",
       "      <td>Diesel</td>\n",
       "      <td>200</td>\n",
       "      <td>48.7</td>\n",
       "      <td>2.0</td>\n",
       "    </tr>\n",
       "    <tr>\n",
       "      <th>10516</th>\n",
       "      <td>A4</td>\n",
       "      <td>2006</td>\n",
       "      <td>2995</td>\n",
       "      <td>Manual</td>\n",
       "      <td>114000</td>\n",
       "      <td>Diesel</td>\n",
       "      <td>195</td>\n",
       "      <td>48.7</td>\n",
       "      <td>2.0</td>\n",
       "    </tr>\n",
       "    <tr>\n",
       "      <th>9726</th>\n",
       "      <td>A3</td>\n",
       "      <td>2008</td>\n",
       "      <td>2995</td>\n",
       "      <td>Manual</td>\n",
       "      <td>136000</td>\n",
       "      <td>Diesel</td>\n",
       "      <td>205</td>\n",
       "      <td>48.7</td>\n",
       "      <td>2.0</td>\n",
       "    </tr>\n",
       "  </tbody>\n",
       "</table>\n",
       "</div>"
      ],
      "text/plain": [
       "      model  year  price transmission  mileage fuelType  tax   mpg  engineSize\n",
       "10588    A3  2003   1490    Automatic   101000   Diesel  240  44.5         1.9\n",
       "10552    A4  2004   1699       Manual   110000   Diesel  315  36.2         2.5\n",
       "7795     A3  2005   1975       Manual   104000   Petrol  240  38.1         2.0\n",
       "10108    TT  2002   1990       Manual   131925   Petrol  325  30.1         1.8\n",
       "7404     A3  2009   2490       Manual   152034   Diesel  150  55.4         1.9\n",
       "9822     A6  2008   2490       Manual   323000   Diesel  200  44.1         2.0\n",
       "10158    A2  2003   2490       Manual   100000   Diesel   30  65.7         1.4\n",
       "9897     A3  2005   2495       Manual   122000   Diesel  150  53.3         0.0\n",
       "9359     A6  2003   2495       Manual   129000   Diesel  325  31.7         2.5\n",
       "7750     A6  2003   2495    Automatic   117000   Diesel  290  39.8         2.5\n",
       "10259    A6  2007   2600       Manual   127700   Diesel  205  44.1         2.0\n",
       "9543     A4  2007   2675       Manual   125000   Petrol  305  34.9         2.0\n",
       "9634     A3  2007   2795       Manual   104000   Diesel  145  53.3         1.9\n",
       "9523     TT  2002   2876       Manual    99000   Petrol  295  30.1         1.8\n",
       "9895     TT  2004   2895       Manual   129000   Petrol  325  30.8         1.8\n",
       "10500    A3  2005   2895       Manual   106790   Petrol  240  35.3         1.6\n",
       "10179    A4  2005   2990       Manual    95000   Petrol  300  34.9         2.0\n",
       "9882     A3  2007   2995       Manual   128000   Diesel  200  48.7         2.0\n",
       "10516    A4  2006   2995       Manual   114000   Diesel  195  48.7         2.0\n",
       "9726     A3  2008   2995       Manual   136000   Diesel  205  48.7         2.0"
      ]
     },
     "execution_count": 12,
     "metadata": {},
     "output_type": "execute_result"
    }
   ],
   "source": [
    "dataFrame.sort_values(\"price\",ascending = True).head(20)"
   ]
  },
  {
   "cell_type": "code",
   "execution_count": 13,
   "metadata": {},
   "outputs": [],
   "source": [
    "dataFrame = dataFrame.drop(\"transmission\",axis=1)"
   ]
  },
  {
   "cell_type": "code",
   "execution_count": 14,
   "metadata": {},
   "outputs": [],
   "source": [
    "dataFrame = dataFrame.drop(\"model\",axis=1)"
   ]
  },
  {
   "cell_type": "code",
   "execution_count": 15,
   "metadata": {},
   "outputs": [],
   "source": [
    "dataFrame = dataFrame.drop(\"fuelType\",axis=1)"
   ]
  },
  {
   "cell_type": "code",
   "execution_count": 16,
   "metadata": {},
   "outputs": [
    {
     "data": {
      "text/html": [
       "<div>\n",
       "<style scoped>\n",
       "    .dataframe tbody tr th:only-of-type {\n",
       "        vertical-align: middle;\n",
       "    }\n",
       "\n",
       "    .dataframe tbody tr th {\n",
       "        vertical-align: top;\n",
       "    }\n",
       "\n",
       "    .dataframe thead th {\n",
       "        text-align: right;\n",
       "    }\n",
       "</style>\n",
       "<table border=\"1\" class=\"dataframe\">\n",
       "  <thead>\n",
       "    <tr style=\"text-align: right;\">\n",
       "      <th></th>\n",
       "      <th>year</th>\n",
       "      <th>price</th>\n",
       "      <th>mileage</th>\n",
       "      <th>tax</th>\n",
       "      <th>mpg</th>\n",
       "      <th>engineSize</th>\n",
       "    </tr>\n",
       "  </thead>\n",
       "  <tbody>\n",
       "    <tr>\n",
       "      <th>4783</th>\n",
       "      <td>2020</td>\n",
       "      <td>145000</td>\n",
       "      <td>2000</td>\n",
       "      <td>145</td>\n",
       "      <td>21.1</td>\n",
       "      <td>5.2</td>\n",
       "    </tr>\n",
       "    <tr>\n",
       "      <th>2255</th>\n",
       "      <td>2020</td>\n",
       "      <td>137995</td>\n",
       "      <td>70</td>\n",
       "      <td>145</td>\n",
       "      <td>21.1</td>\n",
       "      <td>5.2</td>\n",
       "    </tr>\n",
       "    <tr>\n",
       "      <th>4179</th>\n",
       "      <td>2019</td>\n",
       "      <td>137500</td>\n",
       "      <td>10</td>\n",
       "      <td>150</td>\n",
       "      <td>21.4</td>\n",
       "      <td>5.2</td>\n",
       "    </tr>\n",
       "    <tr>\n",
       "      <th>3367</th>\n",
       "      <td>2019</td>\n",
       "      <td>135000</td>\n",
       "      <td>1000</td>\n",
       "      <td>145</td>\n",
       "      <td>32.8</td>\n",
       "      <td>5.2</td>\n",
       "    </tr>\n",
       "    <tr>\n",
       "      <th>5459</th>\n",
       "      <td>2020</td>\n",
       "      <td>133900</td>\n",
       "      <td>333</td>\n",
       "      <td>145</td>\n",
       "      <td>21.4</td>\n",
       "      <td>5.2</td>\n",
       "    </tr>\n",
       "    <tr>\n",
       "      <th>1646</th>\n",
       "      <td>2019</td>\n",
       "      <td>129000</td>\n",
       "      <td>4000</td>\n",
       "      <td>145</td>\n",
       "      <td>21.4</td>\n",
       "      <td>5.2</td>\n",
       "    </tr>\n",
       "    <tr>\n",
       "      <th>10468</th>\n",
       "      <td>2019</td>\n",
       "      <td>125000</td>\n",
       "      <td>13663</td>\n",
       "      <td>150</td>\n",
       "      <td>21.4</td>\n",
       "      <td>5.2</td>\n",
       "    </tr>\n",
       "    <tr>\n",
       "      <th>4925</th>\n",
       "      <td>2019</td>\n",
       "      <td>125000</td>\n",
       "      <td>500</td>\n",
       "      <td>145</td>\n",
       "      <td>21.4</td>\n",
       "      <td>5.2</td>\n",
       "    </tr>\n",
       "    <tr>\n",
       "      <th>3359</th>\n",
       "      <td>2019</td>\n",
       "      <td>125000</td>\n",
       "      <td>100</td>\n",
       "      <td>145</td>\n",
       "      <td>24.1</td>\n",
       "      <td>5.2</td>\n",
       "    </tr>\n",
       "    <tr>\n",
       "      <th>7445</th>\n",
       "      <td>2019</td>\n",
       "      <td>119995</td>\n",
       "      <td>7800</td>\n",
       "      <td>145</td>\n",
       "      <td>21.4</td>\n",
       "      <td>5.2</td>\n",
       "    </tr>\n",
       "    <tr>\n",
       "      <th>7128</th>\n",
       "      <td>2019</td>\n",
       "      <td>119450</td>\n",
       "      <td>3000</td>\n",
       "      <td>145</td>\n",
       "      <td>21.4</td>\n",
       "      <td>5.2</td>\n",
       "    </tr>\n",
       "    <tr>\n",
       "      <th>4742</th>\n",
       "      <td>2019</td>\n",
       "      <td>117990</td>\n",
       "      <td>11936</td>\n",
       "      <td>145</td>\n",
       "      <td>21.4</td>\n",
       "      <td>5.2</td>\n",
       "    </tr>\n",
       "    <tr>\n",
       "      <th>5707</th>\n",
       "      <td>2019</td>\n",
       "      <td>116000</td>\n",
       "      <td>2369</td>\n",
       "      <td>145</td>\n",
       "      <td>22.6</td>\n",
       "      <td>5.2</td>\n",
       "    </tr>\n",
       "    <tr>\n",
       "      <th>3939</th>\n",
       "      <td>2019</td>\n",
       "      <td>112990</td>\n",
       "      <td>8175</td>\n",
       "      <td>145</td>\n",
       "      <td>21.6</td>\n",
       "      <td>5.2</td>\n",
       "    </tr>\n",
       "    <tr>\n",
       "      <th>4954</th>\n",
       "      <td>2019</td>\n",
       "      <td>109990</td>\n",
       "      <td>6954</td>\n",
       "      <td>145</td>\n",
       "      <td>21.6</td>\n",
       "      <td>5.2</td>\n",
       "    </tr>\n",
       "    <tr>\n",
       "      <th>6384</th>\n",
       "      <td>2020</td>\n",
       "      <td>109495</td>\n",
       "      <td>1500</td>\n",
       "      <td>150</td>\n",
       "      <td>22.1</td>\n",
       "      <td>4.0</td>\n",
       "    </tr>\n",
       "    <tr>\n",
       "      <th>10225</th>\n",
       "      <td>2020</td>\n",
       "      <td>104948</td>\n",
       "      <td>3000</td>\n",
       "      <td>145</td>\n",
       "      <td>22.1</td>\n",
       "      <td>4.0</td>\n",
       "    </tr>\n",
       "    <tr>\n",
       "      <th>4400</th>\n",
       "      <td>2020</td>\n",
       "      <td>102544</td>\n",
       "      <td>2000</td>\n",
       "      <td>145</td>\n",
       "      <td>22.1</td>\n",
       "      <td>4.0</td>\n",
       "    </tr>\n",
       "    <tr>\n",
       "      <th>3711</th>\n",
       "      <td>2020</td>\n",
       "      <td>97500</td>\n",
       "      <td>3220</td>\n",
       "      <td>150</td>\n",
       "      <td>22.1</td>\n",
       "      <td>4.0</td>\n",
       "    </tr>\n",
       "    <tr>\n",
       "      <th>8630</th>\n",
       "      <td>2018</td>\n",
       "      <td>95950</td>\n",
       "      <td>5044</td>\n",
       "      <td>150</td>\n",
       "      <td>23.0</td>\n",
       "      <td>5.2</td>\n",
       "    </tr>\n",
       "  </tbody>\n",
       "</table>\n",
       "</div>"
      ],
      "text/plain": [
       "       year   price  mileage  tax   mpg  engineSize\n",
       "4783   2020  145000     2000  145  21.1         5.2\n",
       "2255   2020  137995       70  145  21.1         5.2\n",
       "4179   2019  137500       10  150  21.4         5.2\n",
       "3367   2019  135000     1000  145  32.8         5.2\n",
       "5459   2020  133900      333  145  21.4         5.2\n",
       "1646   2019  129000     4000  145  21.4         5.2\n",
       "10468  2019  125000    13663  150  21.4         5.2\n",
       "4925   2019  125000      500  145  21.4         5.2\n",
       "3359   2019  125000      100  145  24.1         5.2\n",
       "7445   2019  119995     7800  145  21.4         5.2\n",
       "7128   2019  119450     3000  145  21.4         5.2\n",
       "4742   2019  117990    11936  145  21.4         5.2\n",
       "5707   2019  116000     2369  145  22.6         5.2\n",
       "3939   2019  112990     8175  145  21.6         5.2\n",
       "4954   2019  109990     6954  145  21.6         5.2\n",
       "6384   2020  109495     1500  150  22.1         4.0\n",
       "10225  2020  104948     3000  145  22.1         4.0\n",
       "4400   2020  102544     2000  145  22.1         4.0\n",
       "3711   2020   97500     3220  150  22.1         4.0\n",
       "8630   2018   95950     5044  150  23.0         5.2"
      ]
     },
     "execution_count": 16,
     "metadata": {},
     "output_type": "execute_result"
    }
   ],
   "source": [
    "dataFrame.sort_values(\"price\",ascending = False).head(20)"
   ]
  },
  {
   "cell_type": "code",
   "execution_count": 17,
   "metadata": {},
   "outputs": [
    {
     "data": {
      "text/plain": [
       "10668"
      ]
     },
     "execution_count": 17,
     "metadata": {},
     "output_type": "execute_result"
    }
   ],
   "source": [
    "len(dataFrame)"
   ]
  },
  {
   "cell_type": "code",
   "execution_count": 18,
   "metadata": {},
   "outputs": [
    {
     "data": {
      "text/plain": [
       "106.68"
      ]
     },
     "execution_count": 18,
     "metadata": {},
     "output_type": "execute_result"
    }
   ],
   "source": [
    "len(dataFrame) * 0.01"
   ]
  },
  {
   "cell_type": "code",
   "execution_count": 19,
   "metadata": {},
   "outputs": [],
   "source": [
    "yuzdeDoksanDokuzDf = dataFrame.sort_values(\"price\",ascending = False).iloc[131:]"
   ]
  },
  {
   "cell_type": "code",
   "execution_count": 20,
   "metadata": {},
   "outputs": [
    {
     "data": {
      "text/html": [
       "<div>\n",
       "<style scoped>\n",
       "    .dataframe tbody tr th:only-of-type {\n",
       "        vertical-align: middle;\n",
       "    }\n",
       "\n",
       "    .dataframe tbody tr th {\n",
       "        vertical-align: top;\n",
       "    }\n",
       "\n",
       "    .dataframe thead th {\n",
       "        text-align: right;\n",
       "    }\n",
       "</style>\n",
       "<table border=\"1\" class=\"dataframe\">\n",
       "  <thead>\n",
       "    <tr style=\"text-align: right;\">\n",
       "      <th></th>\n",
       "      <th>year</th>\n",
       "      <th>price</th>\n",
       "      <th>mileage</th>\n",
       "      <th>tax</th>\n",
       "      <th>mpg</th>\n",
       "      <th>engineSize</th>\n",
       "    </tr>\n",
       "  </thead>\n",
       "  <tbody>\n",
       "    <tr>\n",
       "      <th>count</th>\n",
       "      <td>10537.000000</td>\n",
       "      <td>10537.000000</td>\n",
       "      <td>10537.000000</td>\n",
       "      <td>10537.000000</td>\n",
       "      <td>10537.000000</td>\n",
       "      <td>10537.000000</td>\n",
       "    </tr>\n",
       "    <tr>\n",
       "      <th>mean</th>\n",
       "      <td>2017.075733</td>\n",
       "      <td>22242.956819</td>\n",
       "      <td>25053.583847</td>\n",
       "      <td>125.642498</td>\n",
       "      <td>51.021980</td>\n",
       "      <td>1.909291</td>\n",
       "    </tr>\n",
       "    <tr>\n",
       "      <th>std</th>\n",
       "      <td>2.166467</td>\n",
       "      <td>9925.584942</td>\n",
       "      <td>23550.811278</td>\n",
       "      <td>67.126593</td>\n",
       "      <td>12.819455</td>\n",
       "      <td>0.567867</td>\n",
       "    </tr>\n",
       "    <tr>\n",
       "      <th>min</th>\n",
       "      <td>1997.000000</td>\n",
       "      <td>1490.000000</td>\n",
       "      <td>5.000000</td>\n",
       "      <td>0.000000</td>\n",
       "      <td>18.900000</td>\n",
       "      <td>0.000000</td>\n",
       "    </tr>\n",
       "    <tr>\n",
       "      <th>25%</th>\n",
       "      <td>2016.000000</td>\n",
       "      <td>15000.000000</td>\n",
       "      <td>6000.000000</td>\n",
       "      <td>125.000000</td>\n",
       "      <td>40.900000</td>\n",
       "      <td>1.500000</td>\n",
       "    </tr>\n",
       "    <tr>\n",
       "      <th>50%</th>\n",
       "      <td>2017.000000</td>\n",
       "      <td>20000.000000</td>\n",
       "      <td>19349.000000</td>\n",
       "      <td>145.000000</td>\n",
       "      <td>49.600000</td>\n",
       "      <td>2.000000</td>\n",
       "    </tr>\n",
       "    <tr>\n",
       "      <th>75%</th>\n",
       "      <td>2019.000000</td>\n",
       "      <td>27637.000000</td>\n",
       "      <td>36790.000000</td>\n",
       "      <td>145.000000</td>\n",
       "      <td>58.900000</td>\n",
       "      <td>2.000000</td>\n",
       "    </tr>\n",
       "    <tr>\n",
       "      <th>max</th>\n",
       "      <td>2020.000000</td>\n",
       "      <td>58495.000000</td>\n",
       "      <td>323000.000000</td>\n",
       "      <td>580.000000</td>\n",
       "      <td>188.300000</td>\n",
       "      <td>6.300000</td>\n",
       "    </tr>\n",
       "  </tbody>\n",
       "</table>\n",
       "</div>"
      ],
      "text/plain": [
       "               year         price        mileage           tax           mpg  \\\n",
       "count  10537.000000  10537.000000   10537.000000  10537.000000  10537.000000   \n",
       "mean    2017.075733  22242.956819   25053.583847    125.642498     51.021980   \n",
       "std        2.166467   9925.584942   23550.811278     67.126593     12.819455   \n",
       "min     1997.000000   1490.000000       5.000000      0.000000     18.900000   \n",
       "25%     2016.000000  15000.000000    6000.000000    125.000000     40.900000   \n",
       "50%     2017.000000  20000.000000   19349.000000    145.000000     49.600000   \n",
       "75%     2019.000000  27637.000000   36790.000000    145.000000     58.900000   \n",
       "max     2020.000000  58495.000000  323000.000000    580.000000    188.300000   \n",
       "\n",
       "         engineSize  \n",
       "count  10537.000000  \n",
       "mean       1.909291  \n",
       "std        0.567867  \n",
       "min        0.000000  \n",
       "25%        1.500000  \n",
       "50%        2.000000  \n",
       "75%        2.000000  \n",
       "max        6.300000  "
      ]
     },
     "execution_count": 20,
     "metadata": {},
     "output_type": "execute_result"
    }
   ],
   "source": [
    "yuzdeDoksanDokuzDf.describe()"
   ]
  },
  {
   "cell_type": "code",
   "execution_count": 21,
   "metadata": {},
   "outputs": [
    {
     "name": "stderr",
     "output_type": "stream",
     "text": [
      "c:\\Users\\Taner\\anaconda3\\lib\\site-packages\\seaborn\\distributions.py:2619: FutureWarning: `distplot` is a deprecated function and will be removed in a future version. Please adapt your code to use either `displot` (a figure-level function with similar flexibility) or `histplot` (an axes-level function for histograms).\n",
      "  warnings.warn(msg, FutureWarning)\n"
     ]
    },
    {
     "data": {
      "text/plain": [
       "<AxesSubplot:xlabel='price', ylabel='Density'>"
      ]
     },
     "execution_count": 21,
     "metadata": {},
     "output_type": "execute_result"
    },
    {
     "data": {
      "image/png": "[encoded data removed]",
      "text/plain": [
       "<Figure size 576x360 with 1 Axes>"
      ]
     },
     "metadata": {
      "needs_background": "light"
     },
     "output_type": "display_data"
    }
   ],
   "source": [
    "plt.figure(figsize=(8,5))\n",
    "sbn.distplot(yuzdeDoksanDokuzDf[\"price\"])"
   ]
  },
  {
   "cell_type": "code",
   "execution_count": 22,
   "metadata": {},
   "outputs": [
    {
     "data": {
      "text/html": [
       "<div>\n",
       "<style scoped>\n",
       "    .dataframe tbody tr th:only-of-type {\n",
       "        vertical-align: middle;\n",
       "    }\n",
       "\n",
       "    .dataframe tbody tr th {\n",
       "        vertical-align: top;\n",
       "    }\n",
       "\n",
       "    .dataframe thead th {\n",
       "        text-align: right;\n",
       "    }\n",
       "</style>\n",
       "<table border=\"1\" class=\"dataframe\">\n",
       "  <thead>\n",
       "    <tr style=\"text-align: right;\">\n",
       "      <th></th>\n",
       "      <th>year</th>\n",
       "      <th>price</th>\n",
       "      <th>mileage</th>\n",
       "      <th>tax</th>\n",
       "      <th>mpg</th>\n",
       "      <th>engineSize</th>\n",
       "    </tr>\n",
       "  </thead>\n",
       "  <tbody>\n",
       "    <tr>\n",
       "      <th>count</th>\n",
       "      <td>10668.000000</td>\n",
       "      <td>10668.000000</td>\n",
       "      <td>10668.000000</td>\n",
       "      <td>10668.000000</td>\n",
       "      <td>10668.000000</td>\n",
       "      <td>10668.000000</td>\n",
       "    </tr>\n",
       "    <tr>\n",
       "      <th>mean</th>\n",
       "      <td>2017.100675</td>\n",
       "      <td>22896.685039</td>\n",
       "      <td>24827.244001</td>\n",
       "      <td>126.011436</td>\n",
       "      <td>50.770022</td>\n",
       "      <td>1.930709</td>\n",
       "    </tr>\n",
       "    <tr>\n",
       "      <th>std</th>\n",
       "      <td>2.167494</td>\n",
       "      <td>11714.841888</td>\n",
       "      <td>23505.257205</td>\n",
       "      <td>67.170294</td>\n",
       "      <td>12.949782</td>\n",
       "      <td>0.602957</td>\n",
       "    </tr>\n",
       "    <tr>\n",
       "      <th>min</th>\n",
       "      <td>1997.000000</td>\n",
       "      <td>1490.000000</td>\n",
       "      <td>1.000000</td>\n",
       "      <td>0.000000</td>\n",
       "      <td>18.900000</td>\n",
       "      <td>0.000000</td>\n",
       "    </tr>\n",
       "    <tr>\n",
       "      <th>25%</th>\n",
       "      <td>2016.000000</td>\n",
       "      <td>15130.750000</td>\n",
       "      <td>5968.750000</td>\n",
       "      <td>125.000000</td>\n",
       "      <td>40.900000</td>\n",
       "      <td>1.500000</td>\n",
       "    </tr>\n",
       "    <tr>\n",
       "      <th>50%</th>\n",
       "      <td>2017.000000</td>\n",
       "      <td>20200.000000</td>\n",
       "      <td>19000.000000</td>\n",
       "      <td>145.000000</td>\n",
       "      <td>49.600000</td>\n",
       "      <td>2.000000</td>\n",
       "    </tr>\n",
       "    <tr>\n",
       "      <th>75%</th>\n",
       "      <td>2019.000000</td>\n",
       "      <td>27990.000000</td>\n",
       "      <td>36464.500000</td>\n",
       "      <td>145.000000</td>\n",
       "      <td>58.900000</td>\n",
       "      <td>2.000000</td>\n",
       "    </tr>\n",
       "    <tr>\n",
       "      <th>max</th>\n",
       "      <td>2020.000000</td>\n",
       "      <td>145000.000000</td>\n",
       "      <td>323000.000000</td>\n",
       "      <td>580.000000</td>\n",
       "      <td>188.300000</td>\n",
       "      <td>6.300000</td>\n",
       "    </tr>\n",
       "  </tbody>\n",
       "</table>\n",
       "</div>"
      ],
      "text/plain": [
       "               year          price        mileage           tax           mpg  \\\n",
       "count  10668.000000   10668.000000   10668.000000  10668.000000  10668.000000   \n",
       "mean    2017.100675   22896.685039   24827.244001    126.011436     50.770022   \n",
       "std        2.167494   11714.841888   23505.257205     67.170294     12.949782   \n",
       "min     1997.000000    1490.000000       1.000000      0.000000     18.900000   \n",
       "25%     2016.000000   15130.750000    5968.750000    125.000000     40.900000   \n",
       "50%     2017.000000   20200.000000   19000.000000    145.000000     49.600000   \n",
       "75%     2019.000000   27990.000000   36464.500000    145.000000     58.900000   \n",
       "max     2020.000000  145000.000000  323000.000000    580.000000    188.300000   \n",
       "\n",
       "         engineSize  \n",
       "count  10668.000000  \n",
       "mean       1.930709  \n",
       "std        0.602957  \n",
       "min        0.000000  \n",
       "25%        1.500000  \n",
       "50%        2.000000  \n",
       "75%        2.000000  \n",
       "max        6.300000  "
      ]
     },
     "execution_count": 22,
     "metadata": {},
     "output_type": "execute_result"
    }
   ],
   "source": [
    "dataFrame.describe()"
   ]
  },
  {
   "cell_type": "code",
   "execution_count": 23,
   "metadata": {},
   "outputs": [
    {
     "data": {
      "text/plain": [
       "year\n",
       "1997     4650.000000\n",
       "1998     4999.000000\n",
       "2002     2433.000000\n",
       "2003     3408.333333\n",
       "2004     5053.600000\n",
       "2005     3490.714286\n",
       "2006     6499.111111\n",
       "2007     7325.250000\n",
       "2008     6281.428571\n",
       "2009     6281.956522\n",
       "2010     7224.093750\n",
       "2011     8944.808511\n",
       "2012     9860.811765\n",
       "2013    11690.790378\n",
       "2014    13890.659955\n",
       "2015    15128.235235\n",
       "2016    16908.725051\n",
       "2017    19951.624289\n",
       "2018    26296.707176\n",
       "2019    30410.752268\n",
       "2020    35967.067039\n",
       "Name: price, dtype: float64"
      ]
     },
     "execution_count": 23,
     "metadata": {},
     "output_type": "execute_result"
    }
   ],
   "source": [
    "dataFrame.groupby(\"year\").mean()[\"price\"]"
   ]
  },
  {
   "cell_type": "code",
   "execution_count": 24,
   "metadata": {},
   "outputs": [
    {
     "data": {
      "text/plain": [
       "year\n",
       "1997     4650.000000\n",
       "1998     4999.000000\n",
       "2002     2433.000000\n",
       "2003     3408.333333\n",
       "2004     5053.600000\n",
       "2005     3490.714286\n",
       "2006     6499.111111\n",
       "2007     7325.250000\n",
       "2008     6281.428571\n",
       "2009     6281.956522\n",
       "2010     7224.093750\n",
       "2011     8944.808511\n",
       "2012     9860.811765\n",
       "2013    11690.790378\n",
       "2014    13787.298206\n",
       "2015    15128.235235\n",
       "2016    16847.266055\n",
       "2017    19867.091144\n",
       "2018    25344.289941\n",
       "2019    29585.353372\n",
       "2020    32881.481928\n",
       "Name: price, dtype: float64"
      ]
     },
     "execution_count": 24,
     "metadata": {},
     "output_type": "execute_result"
    }
   ],
   "source": [
    "yuzdeDoksanDokuzDf.groupby(\"year\").mean()[\"price\"]"
   ]
  },
  {
   "cell_type": "code",
   "execution_count": 25,
   "metadata": {},
   "outputs": [],
   "source": [
    "y = dataFrame[\"price\"].values\n",
    "x = dataFrame.drop(\"price\",axis=1).values"
   ]
  },
  {
   "cell_type": "code",
   "execution_count": 26,
   "metadata": {},
   "outputs": [
    {
     "data": {
      "text/plain": [
       "array([12500, 16500, 11000, ..., 17199, 19499, 15999], dtype=int64)"
      ]
     },
     "execution_count": 26,
     "metadata": {},
     "output_type": "execute_result"
    }
   ],
   "source": [
    "y"
   ]
  },
  {
   "cell_type": "code",
   "execution_count": 27,
   "metadata": {},
   "outputs": [
    {
     "data": {
      "text/plain": [
       "array([[2.0170e+03, 1.5735e+04, 1.5000e+02, 5.5400e+01, 1.4000e+00],\n",
       "       [2.0160e+03, 3.6203e+04, 2.0000e+01, 6.4200e+01, 2.0000e+00],\n",
       "       [2.0160e+03, 2.9946e+04, 3.0000e+01, 5.5400e+01, 1.4000e+00],\n",
       "       ...,\n",
       "       [2.0200e+03, 6.0900e+02, 1.5000e+02, 4.9600e+01, 1.0000e+00],\n",
       "       [2.0170e+03, 8.6460e+03, 1.5000e+02, 4.7900e+01, 1.4000e+00],\n",
       "       [2.0160e+03, 1.1855e+04, 1.5000e+02, 4.7900e+01, 1.4000e+00]])"
      ]
     },
     "execution_count": 27,
     "metadata": {},
     "output_type": "execute_result"
    }
   ],
   "source": [
    "x"
   ]
  },
  {
   "cell_type": "code",
   "execution_count": 28,
   "metadata": {},
   "outputs": [],
   "source": [
    "from sklearn.model_selection import train_test_split"
   ]
  },
  {
   "cell_type": "code",
   "execution_count": 29,
   "metadata": {},
   "outputs": [],
   "source": [
    "x_train, x_test, y_train, y_test = train_test_split(x,y,test_size=0.25,random_state=10)"
   ]
  },
  {
   "cell_type": "code",
   "execution_count": 30,
   "metadata": {},
   "outputs": [
    {
     "data": {
      "text/plain": [
       "8001"
      ]
     },
     "execution_count": 30,
     "metadata": {},
     "output_type": "execute_result"
    }
   ],
   "source": [
    "len(x_train)"
   ]
  },
  {
   "cell_type": "code",
   "execution_count": 31,
   "metadata": {},
   "outputs": [
    {
     "data": {
      "text/plain": [
       "2667"
      ]
     },
     "execution_count": 31,
     "metadata": {},
     "output_type": "execute_result"
    }
   ],
   "source": [
    "len(x_test)"
   ]
  },
  {
   "cell_type": "code",
   "execution_count": 32,
   "metadata": {},
   "outputs": [],
   "source": [
    "from sklearn.preprocessing import MinMaxScaler"
   ]
  },
  {
   "cell_type": "code",
   "execution_count": 33,
   "metadata": {},
   "outputs": [],
   "source": [
    "scaler = MinMaxScaler()"
   ]
  },
  {
   "cell_type": "code",
   "execution_count": 34,
   "metadata": {},
   "outputs": [],
   "source": [
    "x_train = scaler.fit_transform(x_train)"
   ]
  },
  {
   "cell_type": "code",
   "execution_count": 35,
   "metadata": {},
   "outputs": [],
   "source": [
    "x_test = scaler.transform(x_test)"
   ]
  },
  {
   "cell_type": "code",
   "execution_count": 36,
   "metadata": {},
   "outputs": [],
   "source": [
    "from tensorflow.keras.models import Sequential\n",
    "from tensorflow.keras.layers import Dense"
   ]
  },
  {
   "cell_type": "code",
   "execution_count": 37,
   "metadata": {},
   "outputs": [
    {
     "data": {
      "text/plain": [
       "(8001, 5)"
      ]
     },
     "execution_count": 37,
     "metadata": {},
     "output_type": "execute_result"
    }
   ],
   "source": [
    "x_train.shape"
   ]
  },
  {
   "cell_type": "code",
   "execution_count": 38,
   "metadata": {},
   "outputs": [],
   "source": [
    "model = Sequential()\n",
    "\n",
    "model.add(Dense(12,activation=\"relu\"))\n",
    "model.add(Dense(12,activation=\"relu\"))\n",
    "model.add(Dense(12,activation=\"relu\"))\n",
    "model.add(Dense(12,activation=\"relu\"))\n",
    "\n",
    "model.add(Dense(6,activation=\"relu\"))\n",
    "model.add(Dense(6,activation=\"relu\"))\n",
    "\n",
    "model.add(Dense(1))\n",
    "\n",
    "model.compile(optimizer=\"adam\",loss=\"mse\")"
   ]
  },
  {
   "cell_type": "code",
   "execution_count": 39,
   "metadata": {},
   "outputs": [
    {
     "name": "stdout",
     "output_type": "stream",
     "text": [
      "Epoch 1/100\n",
      "81/81 [==============================] - 2s 8ms/step - loss: 668117696.0000 - val_loss: 641576064.0000\n",
      "Epoch 2/100\n",
      "81/81 [==============================] - 0s 4ms/step - loss: 668110016.0000 - val_loss: 641569472.0000\n",
      "Epoch 3/100\n",
      "81/81 [==============================] - 0s 5ms/step - loss: 668099904.0000 - val_loss: 641550656.0000\n",
      "Epoch 4/100\n",
      "81/81 [==============================] - 1s 7ms/step - loss: 667877440.0000 - val_loss: 640602816.0000\n",
      "Epoch 5/100\n",
      "81/81 [==============================] - 0s 3ms/step - loss: 661241472.0000 - val_loss: 620168704.0000\n",
      "Epoch 6/100\n",
      "81/81 [==============================] - 0s 4ms/step - loss: 587067584.0000 - val_loss: 453299424.0000\n",
      "Epoch 7/100\n",
      "81/81 [==============================] - 0s 4ms/step - loss: 298618624.0000 - val_loss: 127441200.0000\n",
      "Epoch 8/100\n",
      "81/81 [==============================] - 0s 5ms/step - loss: 127886616.0000 - val_loss: 109360120.0000\n",
      "Epoch 9/100\n",
      "81/81 [==============================] - 0s 5ms/step - loss: 122632200.0000 - val_loss: 106723936.0000\n",
      "Epoch 10/100\n",
      "81/81 [==============================] - 1s 7ms/step - loss: 120087640.0000 - val_loss: 104570232.0000\n",
      "Epoch 11/100\n",
      "81/81 [==============================] - 0s 6ms/step - loss: 117757624.0000 - val_loss: 102520536.0000\n",
      "Epoch 12/100\n",
      "81/81 [==============================] - 0s 5ms/step - loss: 115596616.0000 - val_loss: 100230408.0000\n",
      "Epoch 13/100\n",
      "81/81 [==============================] - 0s 4ms/step - loss: 113448552.0000 - val_loss: 98212144.0000\n",
      "Epoch 14/100\n",
      "81/81 [==============================] - 0s 4ms/step - loss: 111316480.0000 - val_loss: 96290984.0000\n",
      "Epoch 15/100\n",
      "81/81 [==============================] - 0s 4ms/step - loss: 109200752.0000 - val_loss: 94571304.0000\n",
      "Epoch 16/100\n",
      "81/81 [==============================] - 0s 4ms/step - loss: 107434680.0000 - val_loss: 92367520.0000\n",
      "Epoch 17/100\n",
      "81/81 [==============================] - 0s 4ms/step - loss: 105312080.0000 - val_loss: 90540560.0000\n",
      "Epoch 18/100\n",
      "81/81 [==============================] - 0s 5ms/step - loss: 103390448.0000 - val_loss: 88760080.0000\n",
      "Epoch 19/100\n",
      "81/81 [==============================] - 0s 5ms/step - loss: 101372888.0000 - val_loss: 86888976.0000\n",
      "Epoch 20/100\n",
      "81/81 [==============================] - 0s 4ms/step - loss: 99412608.0000 - val_loss: 85024208.0000\n",
      "Epoch 21/100\n",
      "81/81 [==============================] - 0s 5ms/step - loss: 97607760.0000 - val_loss: 83176288.0000\n",
      "Epoch 22/100\n",
      "81/81 [==============================] - 0s 5ms/step - loss: 95412880.0000 - val_loss: 81216488.0000\n",
      "Epoch 23/100\n",
      "81/81 [==============================] - 0s 4ms/step - loss: 93266096.0000 - val_loss: 79258264.0000\n",
      "Epoch 24/100\n",
      "81/81 [==============================] - 0s 4ms/step - loss: 91139176.0000 - val_loss: 77130072.0000\n",
      "Epoch 25/100\n",
      "81/81 [==============================] - 0s 4ms/step - loss: 88822400.0000 - val_loss: 75122824.0000\n",
      "Epoch 26/100\n",
      "81/81 [==============================] - 0s 5ms/step - loss: 86519120.0000 - val_loss: 72762536.0000\n",
      "Epoch 27/100\n",
      "81/81 [==============================] - 1s 6ms/step - loss: 84216784.0000 - val_loss: 70538112.0000\n",
      "Epoch 28/100\n",
      "81/81 [==============================] - 0s 6ms/step - loss: 81629344.0000 - val_loss: 68097672.0000\n",
      "Epoch 29/100\n",
      "81/81 [==============================] - 0s 5ms/step - loss: 79109240.0000 - val_loss: 65591324.0000\n",
      "Epoch 30/100\n",
      "81/81 [==============================] - 0s 5ms/step - loss: 76238992.0000 - val_loss: 63044396.0000\n",
      "Epoch 31/100\n",
      "81/81 [==============================] - 0s 5ms/step - loss: 73388632.0000 - val_loss: 60394796.0000\n",
      "Epoch 32/100\n",
      "81/81 [==============================] - 0s 4ms/step - loss: 70426024.0000 - val_loss: 57600676.0000\n",
      "Epoch 33/100\n",
      "81/81 [==============================] - 0s 4ms/step - loss: 67383312.0000 - val_loss: 54969396.0000\n",
      "Epoch 34/100\n",
      "81/81 [==============================] - 0s 4ms/step - loss: 64241048.0000 - val_loss: 52041052.0000\n",
      "Epoch 35/100\n",
      "81/81 [==============================] - 0s 4ms/step - loss: 61127408.0000 - val_loss: 49430352.0000\n",
      "Epoch 36/100\n",
      "81/81 [==============================] - 0s 3ms/step - loss: 57973704.0000 - val_loss: 46436248.0000\n",
      "Epoch 37/100\n",
      "81/81 [==============================] - 0s 3ms/step - loss: 54857244.0000 - val_loss: 43715100.0000\n",
      "Epoch 38/100\n",
      "81/81 [==============================] - 0s 3ms/step - loss: 51904272.0000 - val_loss: 41386268.0000\n",
      "Epoch 39/100\n",
      "81/81 [==============================] - 0s 4ms/step - loss: 49130400.0000 - val_loss: 38866132.0000\n",
      "Epoch 40/100\n",
      "81/81 [==============================] - 0s 4ms/step - loss: 46297484.0000 - val_loss: 36661836.0000\n",
      "Epoch 41/100\n",
      "81/81 [==============================] - 0s 6ms/step - loss: 43500924.0000 - val_loss: 34486144.0000\n",
      "Epoch 42/100\n",
      "81/81 [==============================] - 1s 9ms/step - loss: 41035892.0000 - val_loss: 32625478.0000\n",
      "Epoch 43/100\n",
      "81/81 [==============================] - 0s 6ms/step - loss: 38987420.0000 - val_loss: 31037786.0000\n",
      "Epoch 44/100\n",
      "81/81 [==============================] - 0s 4ms/step - loss: 36975052.0000 - val_loss: 29648122.0000\n",
      "Epoch 45/100\n",
      "81/81 [==============================] - 0s 4ms/step - loss: 35248272.0000 - val_loss: 28302272.0000\n",
      "Epoch 46/100\n",
      "81/81 [==============================] - 0s 5ms/step - loss: 33633340.0000 - val_loss: 27037768.0000\n",
      "Epoch 47/100\n",
      "81/81 [==============================] - 0s 4ms/step - loss: 32017698.0000 - val_loss: 25957730.0000\n",
      "Epoch 48/100\n",
      "81/81 [==============================] - 0s 3ms/step - loss: 30626246.0000 - val_loss: 24813716.0000\n",
      "Epoch 49/100\n",
      "81/81 [==============================] - 0s 4ms/step - loss: 29400814.0000 - val_loss: 24007852.0000\n",
      "Epoch 50/100\n",
      "81/81 [==============================] - 0s 6ms/step - loss: 28331728.0000 - val_loss: 23253008.0000\n",
      "Epoch 51/100\n",
      "81/81 [==============================] - 0s 4ms/step - loss: 27419810.0000 - val_loss: 22655036.0000\n",
      "Epoch 52/100\n",
      "81/81 [==============================] - 1s 6ms/step - loss: 26575838.0000 - val_loss: 21903794.0000\n",
      "Epoch 53/100\n",
      "81/81 [==============================] - 0s 4ms/step - loss: 25694884.0000 - val_loss: 21481472.0000\n",
      "Epoch 54/100\n",
      "81/81 [==============================] - 1s 7ms/step - loss: 25007974.0000 - val_loss: 20964544.0000\n",
      "Epoch 55/100\n",
      "81/81 [==============================] - 0s 4ms/step - loss: 24348400.0000 - val_loss: 20598458.0000\n",
      "Epoch 56/100\n",
      "81/81 [==============================] - 0s 4ms/step - loss: 23712446.0000 - val_loss: 20217464.0000\n",
      "Epoch 57/100\n",
      "81/81 [==============================] - 0s 4ms/step - loss: 23105334.0000 - val_loss: 19656766.0000\n",
      "Epoch 58/100\n",
      "81/81 [==============================] - 0s 4ms/step - loss: 22570530.0000 - val_loss: 19249106.0000\n",
      "Epoch 59/100\n",
      "81/81 [==============================] - 0s 4ms/step - loss: 21935034.0000 - val_loss: 18840988.0000\n",
      "Epoch 60/100\n",
      "81/81 [==============================] - 0s 5ms/step - loss: 21331364.0000 - val_loss: 18502816.0000\n",
      "Epoch 61/100\n",
      "81/81 [==============================] - 0s 3ms/step - loss: 20948582.0000 - val_loss: 18203842.0000\n",
      "Epoch 62/100\n",
      "81/81 [==============================] - 0s 3ms/step - loss: 20743458.0000 - val_loss: 17904910.0000\n",
      "Epoch 63/100\n",
      "81/81 [==============================] - 0s 3ms/step - loss: 20000556.0000 - val_loss: 17700400.0000\n",
      "Epoch 64/100\n",
      "81/81 [==============================] - 0s 4ms/step - loss: 19683044.0000 - val_loss: 17714780.0000\n",
      "Epoch 65/100\n",
      "81/81 [==============================] - 0s 4ms/step - loss: 19441168.0000 - val_loss: 17314310.0000\n",
      "Epoch 66/100\n",
      "81/81 [==============================] - 0s 5ms/step - loss: 19189682.0000 - val_loss: 17246084.0000\n",
      "Epoch 67/100\n",
      "81/81 [==============================] - 0s 4ms/step - loss: 18898454.0000 - val_loss: 17032738.0000\n",
      "Epoch 68/100\n",
      "81/81 [==============================] - 0s 6ms/step - loss: 18599200.0000 - val_loss: 16914344.0000\n",
      "Epoch 69/100\n",
      "81/81 [==============================] - 0s 4ms/step - loss: 18365348.0000 - val_loss: 16798108.0000\n",
      "Epoch 70/100\n",
      "81/81 [==============================] - 0s 4ms/step - loss: 18203394.0000 - val_loss: 16747149.0000\n",
      "Epoch 71/100\n",
      "81/81 [==============================] - 1s 6ms/step - loss: 18040500.0000 - val_loss: 16701943.0000\n",
      "Epoch 72/100\n",
      "81/81 [==============================] - 0s 4ms/step - loss: 17931104.0000 - val_loss: 16636862.0000\n",
      "Epoch 73/100\n",
      "81/81 [==============================] - 0s 4ms/step - loss: 17830596.0000 - val_loss: 16637290.0000\n",
      "Epoch 74/100\n",
      "81/81 [==============================] - 0s 4ms/step - loss: 17836762.0000 - val_loss: 16549837.0000\n",
      "Epoch 75/100\n",
      "81/81 [==============================] - 0s 4ms/step - loss: 17614530.0000 - val_loss: 16524494.0000\n",
      "Epoch 76/100\n",
      "81/81 [==============================] - 0s 6ms/step - loss: 17424598.0000 - val_loss: 16419293.0000\n",
      "Epoch 77/100\n",
      "81/81 [==============================] - 0s 6ms/step - loss: 17396218.0000 - val_loss: 16347084.0000\n",
      "Epoch 78/100\n",
      "81/81 [==============================] - 0s 4ms/step - loss: 17204344.0000 - val_loss: 16291773.0000\n",
      "Epoch 79/100\n",
      "81/81 [==============================] - 0s 6ms/step - loss: 17077290.0000 - val_loss: 16294389.0000\n",
      "Epoch 80/100\n",
      "81/81 [==============================] - 0s 4ms/step - loss: 17008786.0000 - val_loss: 16149026.0000\n",
      "Epoch 81/100\n",
      "81/81 [==============================] - 0s 4ms/step - loss: 16859280.0000 - val_loss: 16029826.0000\n",
      "Epoch 82/100\n",
      "81/81 [==============================] - 0s 4ms/step - loss: 16743625.0000 - val_loss: 16166781.0000\n",
      "Epoch 83/100\n",
      "81/81 [==============================] - 0s 5ms/step - loss: 16682312.0000 - val_loss: 15960036.0000\n",
      "Epoch 84/100\n",
      "81/81 [==============================] - 0s 4ms/step - loss: 16597156.0000 - val_loss: 16007739.0000\n",
      "Epoch 85/100\n",
      "81/81 [==============================] - 0s 4ms/step - loss: 16555518.0000 - val_loss: 16040888.0000\n",
      "Epoch 86/100\n",
      "81/81 [==============================] - 0s 4ms/step - loss: 16382775.0000 - val_loss: 15897365.0000\n",
      "Epoch 87/100\n",
      "81/81 [==============================] - 0s 5ms/step - loss: 16334545.0000 - val_loss: 15863948.0000\n",
      "Epoch 88/100\n",
      "81/81 [==============================] - 0s 4ms/step - loss: 16237771.0000 - val_loss: 16122771.0000\n",
      "Epoch 89/100\n",
      "81/81 [==============================] - 0s 4ms/step - loss: 16177485.0000 - val_loss: 15832215.0000\n",
      "Epoch 90/100\n",
      "81/81 [==============================] - 0s 4ms/step - loss: 16146320.0000 - val_loss: 15837043.0000\n",
      "Epoch 91/100\n",
      "81/81 [==============================] - 0s 5ms/step - loss: 16033446.0000 - val_loss: 15706914.0000\n",
      "Epoch 92/100\n",
      "81/81 [==============================] - 0s 4ms/step - loss: 15972878.0000 - val_loss: 15676877.0000\n",
      "Epoch 93/100\n",
      "81/81 [==============================] - 0s 4ms/step - loss: 15909911.0000 - val_loss: 15686267.0000\n",
      "Epoch 94/100\n",
      "81/81 [==============================] - 0s 4ms/step - loss: 15836346.0000 - val_loss: 15882215.0000\n",
      "Epoch 95/100\n",
      "81/81 [==============================] - 0s 4ms/step - loss: 16485352.0000 - val_loss: 15611883.0000\n",
      "Epoch 96/100\n",
      "81/81 [==============================] - 0s 4ms/step - loss: 15763410.0000 - val_loss: 15573017.0000\n",
      "Epoch 97/100\n",
      "81/81 [==============================] - 0s 4ms/step - loss: 15739973.0000 - val_loss: 15551993.0000\n",
      "Epoch 98/100\n",
      "81/81 [==============================] - 0s 4ms/step - loss: 15664344.0000 - val_loss: 15513003.0000\n",
      "Epoch 99/100\n",
      "81/81 [==============================] - 0s 3ms/step - loss: 15622888.0000 - val_loss: 15526985.0000\n",
      "Epoch 100/100\n",
      "81/81 [==============================] - 0s 4ms/step - loss: 15595278.0000 - val_loss: 15486819.0000\n"
     ]
    },
    {
     "data": {
      "text/plain": [
       "<keras.callbacks.History at 0x258497a7d30>"
      ]
     },
     "execution_count": 39,
     "metadata": {},
     "output_type": "execute_result"
    }
   ],
   "source": [
    "model.fit(x=x_train, y = y_train,validation_data=(x_test,y_test),batch_size=100,epochs=100)"
   ]
  },
  {
   "cell_type": "code",
   "execution_count": 40,
   "metadata": {},
   "outputs": [],
   "source": [
    "kayipVerisi = pd.DataFrame(model.history.history)"
   ]
  },
  {
   "cell_type": "code",
   "execution_count": 41,
   "metadata": {},
   "outputs": [
    {
     "data": {
      "text/html": [
       "<div>\n",
       "<style scoped>\n",
       "    .dataframe tbody tr th:only-of-type {\n",
       "        vertical-align: middle;\n",
       "    }\n",
       "\n",
       "    .dataframe tbody tr th {\n",
       "        vertical-align: top;\n",
       "    }\n",
       "\n",
       "    .dataframe thead th {\n",
       "        text-align: right;\n",
       "    }\n",
       "</style>\n",
       "<table border=\"1\" class=\"dataframe\">\n",
       "  <thead>\n",
       "    <tr style=\"text-align: right;\">\n",
       "      <th></th>\n",
       "      <th>loss</th>\n",
       "      <th>val_loss</th>\n",
       "    </tr>\n",
       "  </thead>\n",
       "  <tbody>\n",
       "    <tr>\n",
       "      <th>0</th>\n",
       "      <td>668117696.0</td>\n",
       "      <td>641576064.0</td>\n",
       "    </tr>\n",
       "    <tr>\n",
       "      <th>1</th>\n",
       "      <td>668110016.0</td>\n",
       "      <td>641569472.0</td>\n",
       "    </tr>\n",
       "    <tr>\n",
       "      <th>2</th>\n",
       "      <td>668099904.0</td>\n",
       "      <td>641550656.0</td>\n",
       "    </tr>\n",
       "    <tr>\n",
       "      <th>3</th>\n",
       "      <td>667877440.0</td>\n",
       "      <td>640602816.0</td>\n",
       "    </tr>\n",
       "    <tr>\n",
       "      <th>4</th>\n",
       "      <td>661241472.0</td>\n",
       "      <td>620168704.0</td>\n",
       "    </tr>\n",
       "  </tbody>\n",
       "</table>\n",
       "</div>"
      ],
      "text/plain": [
       "          loss     val_loss\n",
       "0  668117696.0  641576064.0\n",
       "1  668110016.0  641569472.0\n",
       "2  668099904.0  641550656.0\n",
       "3  667877440.0  640602816.0\n",
       "4  661241472.0  620168704.0"
      ]
     },
     "execution_count": 41,
     "metadata": {},
     "output_type": "execute_result"
    }
   ],
   "source": [
    "kayipVerisi.head()"
   ]
  },
  {
   "cell_type": "code",
   "execution_count": 42,
   "metadata": {},
   "outputs": [
    {
     "data": {
      "text/plain": [
       "<AxesSubplot:>"
      ]
     },
     "execution_count": 42,
     "metadata": {},
     "output_type": "execute_result"
    },
    {
     "data": {
      "image/png": "[encoded data removed]",
      "text/plain": [
       "<Figure size 432x288 with 1 Axes>"
      ]
     },
     "metadata": {
      "needs_background": "light"
     },
     "output_type": "display_data"
    }
   ],
   "source": [
    "kayipVerisi.plot()"
   ]
  },
  {
   "cell_type": "code",
   "execution_count": 43,
   "metadata": {},
   "outputs": [],
   "source": [
    "from sklearn.metrics import mean_squared_error, mean_absolute_error"
   ]
  },
  {
   "cell_type": "code",
   "execution_count": 44,
   "metadata": {},
   "outputs": [
    {
     "name": "stdout",
     "output_type": "stream",
     "text": [
      "84/84 [==============================] - 0s 3ms/step\n"
     ]
    }
   ],
   "source": [
    "tahminDizisi = model.predict(x_test)"
   ]
  },
  {
   "cell_type": "code",
   "execution_count": 45,
   "metadata": {},
   "outputs": [
    {
     "data": {
      "text/plain": [
       "array([[27650.64 ],\n",
       "       [17918.979],\n",
       "       [27830.377],\n",
       "       ...,\n",
       "       [21002.9  ],\n",
       "       [27505.66 ],\n",
       "       [23135.75 ]], dtype=float32)"
      ]
     },
     "execution_count": 45,
     "metadata": {},
     "output_type": "execute_result"
    }
   ],
   "source": [
    "tahminDizisi"
   ]
  },
  {
   "cell_type": "code",
   "execution_count": 46,
   "metadata": {},
   "outputs": [
    {
     "data": {
      "text/plain": [
       "2623.476672898798"
      ]
     },
     "execution_count": 46,
     "metadata": {},
     "output_type": "execute_result"
    }
   ],
   "source": [
    "mean_absolute_error(y_test,tahminDizisi)"
   ]
  },
  {
   "cell_type": "code",
   "execution_count": 47,
   "metadata": {},
   "outputs": [
    {
     "data": {
      "text/html": [
       "<div>\n",
       "<style scoped>\n",
       "    .dataframe tbody tr th:only-of-type {\n",
       "        vertical-align: middle;\n",
       "    }\n",
       "\n",
       "    .dataframe tbody tr th {\n",
       "        vertical-align: top;\n",
       "    }\n",
       "\n",
       "    .dataframe thead th {\n",
       "        text-align: right;\n",
       "    }\n",
       "</style>\n",
       "<table border=\"1\" class=\"dataframe\">\n",
       "  <thead>\n",
       "    <tr style=\"text-align: right;\">\n",
       "      <th></th>\n",
       "      <th>year</th>\n",
       "      <th>price</th>\n",
       "      <th>mileage</th>\n",
       "      <th>tax</th>\n",
       "      <th>mpg</th>\n",
       "      <th>engineSize</th>\n",
       "    </tr>\n",
       "  </thead>\n",
       "  <tbody>\n",
       "    <tr>\n",
       "      <th>count</th>\n",
       "      <td>10668.000000</td>\n",
       "      <td>10668.000000</td>\n",
       "      <td>10668.000000</td>\n",
       "      <td>10668.000000</td>\n",
       "      <td>10668.000000</td>\n",
       "      <td>10668.000000</td>\n",
       "    </tr>\n",
       "    <tr>\n",
       "      <th>mean</th>\n",
       "      <td>2017.100675</td>\n",
       "      <td>22896.685039</td>\n",
       "      <td>24827.244001</td>\n",
       "      <td>126.011436</td>\n",
       "      <td>50.770022</td>\n",
       "      <td>1.930709</td>\n",
       "    </tr>\n",
       "    <tr>\n",
       "      <th>std</th>\n",
       "      <td>2.167494</td>\n",
       "      <td>11714.841888</td>\n",
       "      <td>23505.257205</td>\n",
       "      <td>67.170294</td>\n",
       "      <td>12.949782</td>\n",
       "      <td>0.602957</td>\n",
       "    </tr>\n",
       "    <tr>\n",
       "      <th>min</th>\n",
       "      <td>1997.000000</td>\n",
       "      <td>1490.000000</td>\n",
       "      <td>1.000000</td>\n",
       "      <td>0.000000</td>\n",
       "      <td>18.900000</td>\n",
       "      <td>0.000000</td>\n",
       "    </tr>\n",
       "    <tr>\n",
       "      <th>25%</th>\n",
       "      <td>2016.000000</td>\n",
       "      <td>15130.750000</td>\n",
       "      <td>5968.750000</td>\n",
       "      <td>125.000000</td>\n",
       "      <td>40.900000</td>\n",
       "      <td>1.500000</td>\n",
       "    </tr>\n",
       "    <tr>\n",
       "      <th>50%</th>\n",
       "      <td>2017.000000</td>\n",
       "      <td>20200.000000</td>\n",
       "      <td>19000.000000</td>\n",
       "      <td>145.000000</td>\n",
       "      <td>49.600000</td>\n",
       "      <td>2.000000</td>\n",
       "    </tr>\n",
       "    <tr>\n",
       "      <th>75%</th>\n",
       "      <td>2019.000000</td>\n",
       "      <td>27990.000000</td>\n",
       "      <td>36464.500000</td>\n",
       "      <td>145.000000</td>\n",
       "      <td>58.900000</td>\n",
       "      <td>2.000000</td>\n",
       "    </tr>\n",
       "    <tr>\n",
       "      <th>max</th>\n",
       "      <td>2020.000000</td>\n",
       "      <td>145000.000000</td>\n",
       "      <td>323000.000000</td>\n",
       "      <td>580.000000</td>\n",
       "      <td>188.300000</td>\n",
       "      <td>6.300000</td>\n",
       "    </tr>\n",
       "  </tbody>\n",
       "</table>\n",
       "</div>"
      ],
      "text/plain": [
       "               year          price        mileage           tax           mpg  \\\n",
       "count  10668.000000   10668.000000   10668.000000  10668.000000  10668.000000   \n",
       "mean    2017.100675   22896.685039   24827.244001    126.011436     50.770022   \n",
       "std        2.167494   11714.841888   23505.257205     67.170294     12.949782   \n",
       "min     1997.000000    1490.000000       1.000000      0.000000     18.900000   \n",
       "25%     2016.000000   15130.750000    5968.750000    125.000000     40.900000   \n",
       "50%     2017.000000   20200.000000   19000.000000    145.000000     49.600000   \n",
       "75%     2019.000000   27990.000000   36464.500000    145.000000     58.900000   \n",
       "max     2020.000000  145000.000000  323000.000000    580.000000    188.300000   \n",
       "\n",
       "         engineSize  \n",
       "count  10668.000000  \n",
       "mean       1.930709  \n",
       "std        0.602957  \n",
       "min        0.000000  \n",
       "25%        1.500000  \n",
       "50%        2.000000  \n",
       "75%        2.000000  \n",
       "max        6.300000  "
      ]
     },
     "execution_count": 47,
     "metadata": {},
     "output_type": "execute_result"
    }
   ],
   "source": [
    "dataFrame.describe()"
   ]
  },
  {
   "cell_type": "code",
   "execution_count": 48,
   "metadata": {},
   "outputs": [
    {
     "data": {
      "text/plain": [
       "[<matplotlib.lines.Line2D at 0x25849aaa430>]"
      ]
     },
     "execution_count": 48,
     "metadata": {},
     "output_type": "execute_result"
    },
    {
     "data": {
      "image/png": "[encoded data removed]",
      "text/plain": [
       "<Figure size 432x288 with 1 Axes>"
      ]
     },
     "metadata": {
      "needs_background": "light"
     },
     "output_type": "display_data"
    }
   ],
   "source": [
    "plt.scatter(y_test,tahminDizisi)\n",
    "plt.plot(y_test,y_test,\"g-*\")"
   ]
  },
  {
   "cell_type": "code",
   "execution_count": 49,
   "metadata": {},
   "outputs": [
    {
     "data": {
      "text/plain": [
       "year           2016.0\n",
       "price         11000.0\n",
       "mileage       29946.0\n",
       "tax              30.0\n",
       "mpg              55.4\n",
       "engineSize        1.4\n",
       "Name: 2, dtype: float64"
      ]
     },
     "execution_count": 49,
     "metadata": {},
     "output_type": "execute_result"
    }
   ],
   "source": [
    "dataFrame.iloc[2]"
   ]
  },
  {
   "cell_type": "code",
   "execution_count": 50,
   "metadata": {},
   "outputs": [],
   "source": [
    "yeniArabaSeries = dataFrame.drop(\"price\",axis=1).iloc[2]"
   ]
  },
  {
   "cell_type": "code",
   "execution_count": 51,
   "metadata": {},
   "outputs": [
    {
     "data": {
      "text/plain": [
       "pandas.core.series.Series"
      ]
     },
     "execution_count": 51,
     "metadata": {},
     "output_type": "execute_result"
    }
   ],
   "source": [
    "type(yeniArabaSeries)"
   ]
  },
  {
   "cell_type": "code",
   "execution_count": 52,
   "metadata": {},
   "outputs": [],
   "source": [
    "yeniArabaSeries = scaler.transform(yeniArabaSeries.values.reshape(-1,5))"
   ]
  },
  {
   "cell_type": "code",
   "execution_count": 53,
   "metadata": {},
   "outputs": [
    {
     "name": "stdout",
     "output_type": "stream",
     "text": [
      "1/1 [==============================] - 0s 24ms/step\n"
     ]
    },
    {
     "data": {
      "text/plain": [
       "array([[14589.007]], dtype=float32)"
      ]
     },
     "execution_count": 53,
     "metadata": {},
     "output_type": "execute_result"
    }
   ],
   "source": [
    "model.predict(yeniArabaSeries)"
   ]
  },
  {
   "cell_type": "code",
   "execution_count": null,
   "metadata": {},
   "outputs": [],
   "source": []
  }
 ],
 "metadata": {
  "kernelspec": {
   "display_name": "base",
   "language": "python",
   "name": "python3"
  },
  "language_info": {
   "codemirror_mode": {
    "name": "ipython",
    "version": 3
   },
   "file_extension": ".py",
   "mimetype": "text/x-python",
   "name": "python",
   "nbconvert_exporter": "python",
   "pygments_lexer": "ipython3",
   "version": "3.9.12"
  }
 },
 "nbformat": 4,
 "nbformat_minor": 2
}
